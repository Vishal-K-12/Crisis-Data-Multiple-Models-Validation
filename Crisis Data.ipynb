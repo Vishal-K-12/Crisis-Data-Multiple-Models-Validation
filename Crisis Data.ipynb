{
 "cells": [
  {
   "cell_type": "markdown",
   "id": "92bc71fb",
   "metadata": {},
   "source": [
    "# Logistic Regression"
   ]
  },
  {
   "cell_type": "code",
   "execution_count": 1,
   "id": "dc4abdeb",
   "metadata": {},
   "outputs": [],
   "source": [
    "import pandas as pd\n",
    "import numpy as np\n",
    "import matplotlib.pyplot as plt\n",
    "import seaborn as sns\n",
    "%matplotlib inline\n",
    "import seaborn as sns\n",
    "from sklearn import metrics\n",
    "from mlxtend.evaluate import bias_variance_decomp"
   ]
  },
  {
   "cell_type": "code",
   "execution_count": 2,
   "id": "18bc6854",
   "metadata": {},
   "outputs": [],
   "source": [
    "df = pd.read_csv(r'C:\\Users\\ACER\\OneDrive\\Desktop\\crisis_data.csv')"
   ]
  },
  {
   "cell_type": "code",
   "execution_count": 3,
   "id": "f9fb8666",
   "metadata": {},
   "outputs": [
    {
     "data": {
      "text/html": [
       "<div>\n",
       "<style scoped>\n",
       "    .dataframe tbody tr th:only-of-type {\n",
       "        vertical-align: middle;\n",
       "    }\n",
       "\n",
       "    .dataframe tbody tr th {\n",
       "        vertical-align: top;\n",
       "    }\n",
       "\n",
       "    .dataframe thead th {\n",
       "        text-align: right;\n",
       "    }\n",
       "</style>\n",
       "<table border=\"1\" class=\"dataframe\">\n",
       "  <thead>\n",
       "    <tr style=\"text-align: right;\">\n",
       "      <th></th>\n",
       "      <th>CMR</th>\n",
       "      <th>RIRR</th>\n",
       "      <th>CDR_p</th>\n",
       "      <th>std_FII</th>\n",
       "      <th>REER</th>\n",
       "      <th>IIP</th>\n",
       "      <th>MCSI</th>\n",
       "      <th>Indian Sentiment</th>\n",
       "      <th>EURO_CCI</th>\n",
       "      <th>Emerging sentiment</th>\n",
       "      <th>pca_f1</th>\n",
       "      <th>crisis_indicator</th>\n",
       "    </tr>\n",
       "  </thead>\n",
       "  <tbody>\n",
       "    <tr>\n",
       "      <th>0</th>\n",
       "      <td>7.24</td>\n",
       "      <td>10.39</td>\n",
       "      <td>51.084</td>\n",
       "      <td>-0.358586</td>\n",
       "      <td>95.00</td>\n",
       "      <td>159.0</td>\n",
       "      <td>92.6</td>\n",
       "      <td>NaN</td>\n",
       "      <td>-2.2</td>\n",
       "      <td>0.509225</td>\n",
       "      <td>NaN</td>\n",
       "      <td>1</td>\n",
       "    </tr>\n",
       "    <tr>\n",
       "      <th>1</th>\n",
       "      <td>7.19</td>\n",
       "      <td>10.39</td>\n",
       "      <td>51.236</td>\n",
       "      <td>-0.362663</td>\n",
       "      <td>95.05</td>\n",
       "      <td>160.4</td>\n",
       "      <td>92.4</td>\n",
       "      <td>0.796048</td>\n",
       "      <td>-3.0</td>\n",
       "      <td>0.197867</td>\n",
       "      <td>0.796048</td>\n",
       "      <td>1</td>\n",
       "    </tr>\n",
       "    <tr>\n",
       "      <th>2</th>\n",
       "      <td>6.94</td>\n",
       "      <td>10.38</td>\n",
       "      <td>51.182</td>\n",
       "      <td>-0.419626</td>\n",
       "      <td>93.56</td>\n",
       "      <td>162.2</td>\n",
       "      <td>91.5</td>\n",
       "      <td>0.811970</td>\n",
       "      <td>-5.5</td>\n",
       "      <td>0.153128</td>\n",
       "      <td>0.811970</td>\n",
       "      <td>1</td>\n",
       "    </tr>\n",
       "    <tr>\n",
       "      <th>3</th>\n",
       "      <td>7.30</td>\n",
       "      <td>10.38</td>\n",
       "      <td>50.977</td>\n",
       "      <td>-0.476136</td>\n",
       "      <td>91.82</td>\n",
       "      <td>161.7</td>\n",
       "      <td>81.8</td>\n",
       "      <td>0.419764</td>\n",
       "      <td>-8.6</td>\n",
       "      <td>-0.602136</td>\n",
       "      <td>0.419764</td>\n",
       "      <td>1</td>\n",
       "    </tr>\n",
       "    <tr>\n",
       "      <th>4</th>\n",
       "      <td>7.40</td>\n",
       "      <td>10.38</td>\n",
       "      <td>51.660</td>\n",
       "      <td>-0.381688</td>\n",
       "      <td>92.37</td>\n",
       "      <td>162.2</td>\n",
       "      <td>82.7</td>\n",
       "      <td>0.382706</td>\n",
       "      <td>-9.0</td>\n",
       "      <td>-1.297369</td>\n",
       "      <td>0.382706</td>\n",
       "      <td>1</td>\n",
       "    </tr>\n",
       "  </tbody>\n",
       "</table>\n",
       "</div>"
      ],
      "text/plain": [
       "    CMR   RIRR   CDR_p   std_FII   REER    IIP  MCSI  Indian Sentiment  \\\n",
       "0  7.24  10.39  51.084 -0.358586  95.00  159.0  92.6               NaN   \n",
       "1  7.19  10.39  51.236 -0.362663  95.05  160.4  92.4          0.796048   \n",
       "2  6.94  10.38  51.182 -0.419626  93.56  162.2  91.5          0.811970   \n",
       "3  7.30  10.38  50.977 -0.476136  91.82  161.7  81.8          0.419764   \n",
       "4  7.40  10.38  51.660 -0.381688  92.37  162.2  82.7          0.382706   \n",
       "\n",
       "   EURO_CCI  Emerging sentiment    pca_f1  crisis_indicator   \n",
       "0      -2.2            0.509225       NaN                  1  \n",
       "1      -3.0            0.197867  0.796048                  1  \n",
       "2      -5.5            0.153128  0.811970                  1  \n",
       "3      -8.6           -0.602136  0.419764                  1  \n",
       "4      -9.0           -1.297369  0.382706                  1  "
      ]
     },
     "execution_count": 3,
     "metadata": {},
     "output_type": "execute_result"
    }
   ],
   "source": [
    "df.head()"
   ]
  },
  {
   "cell_type": "code",
   "execution_count": 4,
   "id": "6250d978",
   "metadata": {},
   "outputs": [
    {
     "data": {
      "text/html": [
       "<div>\n",
       "<style scoped>\n",
       "    .dataframe tbody tr th:only-of-type {\n",
       "        vertical-align: middle;\n",
       "    }\n",
       "\n",
       "    .dataframe tbody tr th {\n",
       "        vertical-align: top;\n",
       "    }\n",
       "\n",
       "    .dataframe thead th {\n",
       "        text-align: right;\n",
       "    }\n",
       "</style>\n",
       "<table border=\"1\" class=\"dataframe\">\n",
       "  <thead>\n",
       "    <tr style=\"text-align: right;\">\n",
       "      <th></th>\n",
       "      <th>CMR</th>\n",
       "      <th>RIRR</th>\n",
       "      <th>CDR_p</th>\n",
       "      <th>std_FII</th>\n",
       "      <th>REER</th>\n",
       "      <th>IIP</th>\n",
       "      <th>MCSI</th>\n",
       "      <th>Indian Sentiment</th>\n",
       "      <th>EURO_CCI</th>\n",
       "      <th>Emerging sentiment</th>\n",
       "      <th>pca_f1</th>\n",
       "      <th>crisis_indicator</th>\n",
       "    </tr>\n",
       "  </thead>\n",
       "  <tbody>\n",
       "    <tr>\n",
       "      <th>1</th>\n",
       "      <td>7.19</td>\n",
       "      <td>10.39</td>\n",
       "      <td>51.236</td>\n",
       "      <td>-0.362663</td>\n",
       "      <td>95.05</td>\n",
       "      <td>160.400</td>\n",
       "      <td>92.4</td>\n",
       "      <td>0.796048</td>\n",
       "      <td>-3.0</td>\n",
       "      <td>0.197867</td>\n",
       "      <td>0.796048</td>\n",
       "      <td>1</td>\n",
       "    </tr>\n",
       "    <tr>\n",
       "      <th>2</th>\n",
       "      <td>6.94</td>\n",
       "      <td>10.38</td>\n",
       "      <td>51.182</td>\n",
       "      <td>-0.419626</td>\n",
       "      <td>93.56</td>\n",
       "      <td>162.200</td>\n",
       "      <td>91.5</td>\n",
       "      <td>0.811970</td>\n",
       "      <td>-5.5</td>\n",
       "      <td>0.153128</td>\n",
       "      <td>0.811970</td>\n",
       "      <td>1</td>\n",
       "    </tr>\n",
       "    <tr>\n",
       "      <th>3</th>\n",
       "      <td>7.30</td>\n",
       "      <td>10.38</td>\n",
       "      <td>50.977</td>\n",
       "      <td>-0.476136</td>\n",
       "      <td>91.82</td>\n",
       "      <td>161.700</td>\n",
       "      <td>81.8</td>\n",
       "      <td>0.419764</td>\n",
       "      <td>-8.6</td>\n",
       "      <td>-0.602136</td>\n",
       "      <td>0.419764</td>\n",
       "      <td>1</td>\n",
       "    </tr>\n",
       "    <tr>\n",
       "      <th>4</th>\n",
       "      <td>7.40</td>\n",
       "      <td>10.38</td>\n",
       "      <td>51.660</td>\n",
       "      <td>-0.381688</td>\n",
       "      <td>92.37</td>\n",
       "      <td>162.200</td>\n",
       "      <td>82.7</td>\n",
       "      <td>0.382706</td>\n",
       "      <td>-9.0</td>\n",
       "      <td>-1.297369</td>\n",
       "      <td>0.382706</td>\n",
       "      <td>1</td>\n",
       "    </tr>\n",
       "    <tr>\n",
       "      <th>5</th>\n",
       "      <td>6.97</td>\n",
       "      <td>10.38</td>\n",
       "      <td>51.683</td>\n",
       "      <td>-0.431856</td>\n",
       "      <td>94.01</td>\n",
       "      <td>167.000</td>\n",
       "      <td>83.9</td>\n",
       "      <td>0.493920</td>\n",
       "      <td>-11.1</td>\n",
       "      <td>-1.558114</td>\n",
       "      <td>0.493920</td>\n",
       "      <td>1</td>\n",
       "    </tr>\n",
       "    <tr>\n",
       "      <th>...</th>\n",
       "      <td>...</td>\n",
       "      <td>...</td>\n",
       "      <td>...</td>\n",
       "      <td>...</td>\n",
       "      <td>...</td>\n",
       "      <td>...</td>\n",
       "      <td>...</td>\n",
       "      <td>...</td>\n",
       "      <td>...</td>\n",
       "      <td>...</td>\n",
       "      <td>...</td>\n",
       "      <td>...</td>\n",
       "    </tr>\n",
       "    <tr>\n",
       "      <th>206</th>\n",
       "      <td>6.36</td>\n",
       "      <td>5.94</td>\n",
       "      <td>75.394</td>\n",
       "      <td>-0.470700</td>\n",
       "      <td>119.77</td>\n",
       "      <td>238.346</td>\n",
       "      <td>96.2</td>\n",
       "      <td>1.999852</td>\n",
       "      <td>-1.9</td>\n",
       "      <td>1.421373</td>\n",
       "      <td>1.999852</td>\n",
       "      <td>0</td>\n",
       "    </tr>\n",
       "    <tr>\n",
       "      <th>207</th>\n",
       "      <td>6.46</td>\n",
       "      <td>5.92</td>\n",
       "      <td>76.117</td>\n",
       "      <td>-1.055508</td>\n",
       "      <td>115.03</td>\n",
       "      <td>228.910</td>\n",
       "      <td>100.1</td>\n",
       "      <td>3.460565</td>\n",
       "      <td>-1.9</td>\n",
       "      <td>1.344099</td>\n",
       "      <td>3.460565</td>\n",
       "      <td>0</td>\n",
       "    </tr>\n",
       "    <tr>\n",
       "      <th>208</th>\n",
       "      <td>6.45</td>\n",
       "      <td>5.88</td>\n",
       "      <td>76.746</td>\n",
       "      <td>-3.369031</td>\n",
       "      <td>113.68</td>\n",
       "      <td>226.227</td>\n",
       "      <td>98.6</td>\n",
       "      <td>1.750917</td>\n",
       "      <td>-2.7</td>\n",
       "      <td>1.151050</td>\n",
       "      <td>1.750917</td>\n",
       "      <td>0</td>\n",
       "    </tr>\n",
       "    <tr>\n",
       "      <th>209</th>\n",
       "      <td>6.40</td>\n",
       "      <td>5.89</td>\n",
       "      <td>77.104</td>\n",
       "      <td>0.310025</td>\n",
       "      <td>116.92</td>\n",
       "      <td>232.665</td>\n",
       "      <td>97.5</td>\n",
       "      <td>2.569462</td>\n",
       "      <td>-3.9</td>\n",
       "      <td>1.099882</td>\n",
       "      <td>2.569462</td>\n",
       "      <td>0</td>\n",
       "    </tr>\n",
       "    <tr>\n",
       "      <th>210</th>\n",
       "      <td>6.47</td>\n",
       "      <td>6.00</td>\n",
       "      <td>78.154</td>\n",
       "      <td>-0.282937</td>\n",
       "      <td>119.17</td>\n",
       "      <td>237.142</td>\n",
       "      <td>98.3</td>\n",
       "      <td>0.847860</td>\n",
       "      <td>-3.9</td>\n",
       "      <td>1.402040</td>\n",
       "      <td>0.847860</td>\n",
       "      <td>0</td>\n",
       "    </tr>\n",
       "  </tbody>\n",
       "</table>\n",
       "<p>210 rows × 12 columns</p>\n",
       "</div>"
      ],
      "text/plain": [
       "      CMR   RIRR   CDR_p   std_FII    REER      IIP   MCSI  Indian Sentiment  \\\n",
       "1    7.19  10.39  51.236 -0.362663   95.05  160.400   92.4          0.796048   \n",
       "2    6.94  10.38  51.182 -0.419626   93.56  162.200   91.5          0.811970   \n",
       "3    7.30  10.38  50.977 -0.476136   91.82  161.700   81.8          0.419764   \n",
       "4    7.40  10.38  51.660 -0.381688   92.37  162.200   82.7          0.382706   \n",
       "5    6.97  10.38  51.683 -0.431856   94.01  167.000   83.9          0.493920   \n",
       "..    ...    ...     ...       ...     ...      ...    ...               ...   \n",
       "206  6.36   5.94  75.394 -0.470700  119.77  238.346   96.2          1.999852   \n",
       "207  6.46   5.92  76.117 -1.055508  115.03  228.910  100.1          3.460565   \n",
       "208  6.45   5.88  76.746 -3.369031  113.68  226.227   98.6          1.750917   \n",
       "209  6.40   5.89  77.104  0.310025  116.92  232.665   97.5          2.569462   \n",
       "210  6.47   6.00  78.154 -0.282937  119.17  237.142   98.3          0.847860   \n",
       "\n",
       "     EURO_CCI  Emerging sentiment    pca_f1  crisis_indicator   \n",
       "1        -3.0            0.197867  0.796048                  1  \n",
       "2        -5.5            0.153128  0.811970                  1  \n",
       "3        -8.6           -0.602136  0.419764                  1  \n",
       "4        -9.0           -1.297369  0.382706                  1  \n",
       "5       -11.1           -1.558114  0.493920                  1  \n",
       "..        ...                 ...       ...                ...  \n",
       "206      -1.9            1.421373  1.999852                  0  \n",
       "207      -1.9            1.344099  3.460565                  0  \n",
       "208      -2.7            1.151050  1.750917                  0  \n",
       "209      -3.9            1.099882  2.569462                  0  \n",
       "210      -3.9            1.402040  0.847860                  0  \n",
       "\n",
       "[210 rows x 12 columns]"
      ]
     },
     "execution_count": 4,
     "metadata": {},
     "output_type": "execute_result"
    }
   ],
   "source": [
    "df1 = df.dropna()\n",
    "df1"
   ]
  },
  {
   "cell_type": "code",
   "execution_count": 5,
   "id": "98d0463a",
   "metadata": {},
   "outputs": [],
   "source": [
    "X = df1.iloc[:, :-1].values\n",
    "Y = df1.iloc[:, 11].values"
   ]
  },
  {
   "cell_type": "code",
   "execution_count": 6,
   "id": "a4a13f6e",
   "metadata": {},
   "outputs": [],
   "source": [
    "from sklearn.model_selection import train_test_split\n",
    "X_Train, X_Test, Y_Train, Y_Test = train_test_split(X, Y, test_size = 0.25, random_state = 0)"
   ]
  },
  {
   "cell_type": "code",
   "execution_count": 7,
   "id": "788303d0",
   "metadata": {},
   "outputs": [],
   "source": [
    "from sklearn.preprocessing import StandardScaler\n",
    "sc_X = StandardScaler()\n",
    "X_Train = sc_X.fit_transform(X_Train)\n",
    "X_Test = sc_X.transform(X_Test)"
   ]
  },
  {
   "cell_type": "code",
   "execution_count": 8,
   "id": "a29dddaf",
   "metadata": {},
   "outputs": [
    {
     "data": {
      "text/plain": [
       "LogisticRegression(random_state=0)"
      ]
     },
     "execution_count": 8,
     "metadata": {},
     "output_type": "execute_result"
    }
   ],
   "source": [
    "from sklearn.linear_model import LogisticRegression\n",
    "classifier = LogisticRegression(random_state = 0)\n",
    "classifier.fit(X_Train, Y_Train)"
   ]
  },
  {
   "cell_type": "code",
   "execution_count": 9,
   "id": "f397340a",
   "metadata": {},
   "outputs": [],
   "source": [
    "Y_Pred = classifier.predict(X_Test)"
   ]
  },
  {
   "cell_type": "code",
   "execution_count": 10,
   "id": "34dcb5c9",
   "metadata": {},
   "outputs": [
    {
     "name": "stdout",
     "output_type": "stream",
     "text": [
      "Accuracy of logistic regression classifier on test set: 0.91\n"
     ]
    }
   ],
   "source": [
    "print('Accuracy of logistic regression classifier on test set: {:.2f}'.format(classifier.score(X_Test, Y_Test)))"
   ]
  },
  {
   "cell_type": "markdown",
   "id": "6cbcad7e",
   "metadata": {},
   "source": [
    "# Confusion Matrix"
   ]
  },
  {
   "cell_type": "code",
   "execution_count": 11,
   "id": "717bba17",
   "metadata": {},
   "outputs": [
    {
     "name": "stdout",
     "output_type": "stream",
     "text": [
      "[[43  0]\n",
      " [ 5  5]]\n"
     ]
    }
   ],
   "source": [
    "from sklearn.metrics import confusion_matrix\n",
    "confusion_matrix = confusion_matrix(Y_Test, Y_Pred)\n",
    "print(confusion_matrix)"
   ]
  },
  {
   "cell_type": "code",
   "execution_count": 12,
   "id": "f1d5f015",
   "metadata": {},
   "outputs": [
    {
     "data": {
      "image/png": "[encoded data removed]",
      "text/plain": [
       "<Figure size 432x288 with 2 Axes>"
      ]
     },
     "metadata": {
      "needs_background": "light"
     },
     "output_type": "display_data"
    }
   ],
   "source": [
    "\n",
    "ax = sns.heatmap(confusion_matrix, annot=True, cmap='Blues')\n",
    "\n",
    "ax.set_title('Seaborn Confusion Matrix with labels\\n\\n');\n",
    "ax.set_xlabel('\\nPredicted Values')\n",
    "ax.set_ylabel('Actual Values ');\n",
    "\n",
    "\n",
    "ax.xaxis.set_ticklabels(['False','True'])\n",
    "ax.yaxis.set_ticklabels(['False','True'])\n",
    "\n",
    "\n",
    "plt.show()"
   ]
  },
  {
   "cell_type": "markdown",
   "id": "2a2a80b5",
   "metadata": {},
   "source": [
    "# Report"
   ]
  },
  {
   "cell_type": "code",
   "execution_count": 13,
   "id": "b166e708",
   "metadata": {},
   "outputs": [
    {
     "name": "stdout",
     "output_type": "stream",
     "text": [
      "              precision    recall  f1-score   support\n",
      "\n",
      "           0       0.90      1.00      0.95        43\n",
      "           1       1.00      0.50      0.67        10\n",
      "\n",
      "    accuracy                           0.91        53\n",
      "   macro avg       0.95      0.75      0.81        53\n",
      "weighted avg       0.92      0.91      0.89        53\n",
      "\n"
     ]
    }
   ],
   "source": [
    "from sklearn.metrics import classification_report\n",
    "print(classification_report(Y_Test, Y_Pred))"
   ]
  },
  {
   "cell_type": "markdown",
   "id": "d2640493",
   "metadata": {},
   "source": [
    "# Visualization"
   ]
  },
  {
   "cell_type": "code",
   "execution_count": 14,
   "id": "fec64887",
   "metadata": {},
   "outputs": [
    {
     "data": {
      "image/png": "[encoded data removed]",
      "text/plain": [
       "<Figure size 432x288 with 1 Axes>"
      ]
     },
     "metadata": {
      "needs_background": "light"
     },
     "output_type": "display_data"
    }
   ],
   "source": [
    "from sklearn.metrics import roc_auc_score\n",
    "from sklearn.metrics import roc_curve\n",
    "logit_roc_auc = roc_auc_score(Y_Test, classifier.predict(X_Test))\n",
    "fpr, tpr, thresholds = roc_curve(Y_Test, classifier.predict_proba(X_Test)[:,1])\n",
    "plt.figure()\n",
    "plt.plot(fpr, tpr, label='Logistic Regression (area = %0.2f)' % logit_roc_auc)\n",
    "plt.plot([0, 1], [0, 1],'r--')\n",
    "plt.xlim([0.0, 1.0])\n",
    "plt.ylim([0.0, 1.05])\n",
    "plt.xlabel('False Positive Rate')\n",
    "plt.ylabel('True Positive Rate')\n",
    "plt.title('Receiver operating characteristic')\n",
    "plt.legend(loc=\"lower right\")\n",
    "plt.savefig('Log_ROC')\n",
    "plt.show()"
   ]
  },
  {
   "cell_type": "markdown",
   "id": "42890baf",
   "metadata": {},
   "source": [
    "# Linear Regression\n"
   ]
  },
  {
   "cell_type": "code",
   "execution_count": 15,
   "id": "459bfa6c",
   "metadata": {},
   "outputs": [],
   "source": [
    "x = df1.iloc[:, :-1].values\n",
    "y = df1.iloc[:, 11].values"
   ]
  },
  {
   "cell_type": "code",
   "execution_count": 16,
   "id": "1436f23b",
   "metadata": {},
   "outputs": [],
   "source": [
    "from sklearn.model_selection import train_test_split\n",
    "X_train, X_test, y_train, y_test = train_test_split(x, y, test_size=0.4, random_state=101)"
   ]
  },
  {
   "cell_type": "code",
   "execution_count": 17,
   "id": "e32e6f4d",
   "metadata": {},
   "outputs": [
    {
     "data": {
      "text/plain": [
       "LinearRegression()"
      ]
     },
     "execution_count": 17,
     "metadata": {},
     "output_type": "execute_result"
    }
   ],
   "source": [
    "from sklearn.linear_model import LinearRegression\n",
    "lm = LinearRegression()\n",
    "lm.fit(X_train,y_train)"
   ]
  },
  {
   "cell_type": "code",
   "execution_count": 18,
   "id": "44368601",
   "metadata": {},
   "outputs": [],
   "source": [
    "predictions = lm.predict(X_test)"
   ]
  },
  {
   "cell_type": "code",
   "execution_count": 19,
   "id": "45677913",
   "metadata": {},
   "outputs": [
    {
     "name": "stdout",
     "output_type": "stream",
     "text": [
      "Accuracy of Multiple Linear Regression on test set: 0.37\n"
     ]
    }
   ],
   "source": [
    "print('Accuracy of Multiple Linear Regression on test set: {:.2f}'.format(lm.score(X_test, y_test)))"
   ]
  },
  {
   "cell_type": "code",
   "execution_count": 20,
   "id": "7050a61f",
   "metadata": {},
   "outputs": [
    {
     "name": "stdout",
     "output_type": "stream",
     "text": [
      "MAE: 0.19021292063261383\n",
      "MSE: 0.07140557134193874\n",
      "RMSE: 0.26721820922597833\n"
     ]
    }
   ],
   "source": [
    "print('MAE:', metrics.mean_absolute_error(y_test, predictions))\n",
    "print('MSE:', metrics.mean_squared_error(y_test, predictions))\n",
    "print('RMSE:', np.sqrt(metrics.mean_squared_error(y_test, predictions)))"
   ]
  },
  {
   "cell_type": "markdown",
   "id": "fb330faa",
   "metadata": {},
   "source": [
    "# Visualization"
   ]
  },
  {
   "cell_type": "code",
   "execution_count": 21,
   "id": "0767cf1e",
   "metadata": {},
   "outputs": [
    {
     "data": {
      "text/plain": [
       "<BarContainer object of 84 artists>"
      ]
     },
     "execution_count": 21,
     "metadata": {},
     "output_type": "execute_result"
    },
    {
     "data": {
      "image/png": "[encoded data removed]",
      "text/plain": [
       "<Figure size 1152x576 with 1 Axes>"
      ]
     },
     "metadata": {
      "needs_background": "light"
     },
     "output_type": "display_data"
    }
   ],
   "source": [
    "plt.figure(figsize=(16 ,8))\n",
    "\n",
    "plt.bar(y_test,predictions)"
   ]
  },
  {
   "cell_type": "code",
   "execution_count": 22,
   "id": "096ec211",
   "metadata": {},
   "outputs": [
    {
     "name": "stderr",
     "output_type": "stream",
     "text": [
      "C:\\Users\\ACER\\AppData\\Local\\Temp/ipykernel_8652/618483325.py:5: UserWarning: linestyle is redundantly defined by the 'linestyle' keyword argument and the fmt string \"-o\" (-> linestyle='-'). The keyword argument will take precedence.\n",
      "  plt.plot(y_test, y_test + 1, '-o' , linestyle='solid',label='y=2x+1', color='red')\n"
     ]
    },
    {
     "data": {
      "image/png": "[encoded data removed]",
      "text/plain": [
       "<Figure size 432x288 with 1 Axes>"
      ]
     },
     "metadata": {
      "needs_background": "light"
     },
     "output_type": "display_data"
    }
   ],
   "source": [
    "from matplotlib import pyplot as plt\n",
    "plt.scatter(y_test, predictions, color='blue')\n",
    "plt.xlabel('Advertising', color='blue')\n",
    "plt.ylabel('sales', color='red')\n",
    "plt.plot(y_test, y_test + 1, '-o' , linestyle='solid',label='y=2x+1', color='red')\n",
    "plt.legend(loc='upper left')\n",
    "plt.grid()\n",
    "plt.show()"
   ]
  },
  {
   "cell_type": "markdown",
   "id": "a778d66e",
   "metadata": {},
   "source": [
    "# Bayesian Regression"
   ]
  },
  {
   "cell_type": "code",
   "execution_count": 23,
   "id": "e3b3d375",
   "metadata": {},
   "outputs": [],
   "source": [
    "from sklearn.linear_model import BayesianRidge"
   ]
  },
  {
   "cell_type": "code",
   "execution_count": 24,
   "id": "1c67d420",
   "metadata": {},
   "outputs": [],
   "source": [
    "x1 = df1.iloc[:, :-1].values\n",
    "y1 = df1.iloc[:, 11].values"
   ]
  },
  {
   "cell_type": "code",
   "execution_count": 25,
   "id": "f1cb1588",
   "metadata": {},
   "outputs": [],
   "source": [
    "x_train, x_test, Y_train, Y_test = train_test_split(x1, y1, test_size = 0.15, random_state = 42)"
   ]
  },
  {
   "cell_type": "code",
   "execution_count": 26,
   "id": "2958b827",
   "metadata": {},
   "outputs": [
    {
     "data": {
      "text/plain": [
       "BayesianRidge()"
      ]
     },
     "execution_count": 26,
     "metadata": {},
     "output_type": "execute_result"
    }
   ],
   "source": [
    "model3 = BayesianRidge()\n",
    "model3.fit(X_train, y_train)\n"
   ]
  },
  {
   "cell_type": "code",
   "execution_count": 27,
   "id": "972dafc3",
   "metadata": {},
   "outputs": [],
   "source": [
    "predictions1 = model3.predict(X_test)"
   ]
  },
  {
   "cell_type": "code",
   "execution_count": 28,
   "id": "14c2bb64",
   "metadata": {},
   "outputs": [
    {
     "name": "stdout",
     "output_type": "stream",
     "text": [
      "Accuracy of Bayesian on test set: 0.25\n"
     ]
    }
   ],
   "source": [
    "print('Accuracy of Bayesian on test set: {:.2f}'.format(model3.score(x_test, Y_test)))"
   ]
  },
  {
   "cell_type": "markdown",
   "id": "8fcea681",
   "metadata": {},
   "source": [
    "# Random Forest"
   ]
  },
  {
   "cell_type": "code",
   "execution_count": 29,
   "id": "0bd582bf",
   "metadata": {},
   "outputs": [],
   "source": [
    "from sklearn.ensemble import RandomForestRegressor\n",
    "import numpy as np\n",
    "regressor1 = RandomForestRegressor(n_estimators = 100, random_state = 0)\n",
    "model5 = regressor1.fit(x1, y1) "
   ]
  },
  {
   "cell_type": "code",
   "execution_count": 30,
   "id": "cb8bfbad",
   "metadata": {},
   "outputs": [
    {
     "name": "stdout",
     "output_type": "stream",
     "text": [
      "Accuracy of Random Forest Decision Tree on test set: 0.92\n"
     ]
    }
   ],
   "source": [
    "print('Accuracy of Random Forest Decision Tree on test set: {:.2f}'.format(model5.score(x1,y1)))"
   ]
  },
  {
   "cell_type": "markdown",
   "id": "a74545d5",
   "metadata": {},
   "source": [
    "# Bias Variance"
   ]
  },
  {
   "cell_type": "code",
   "execution_count": 31,
   "id": "edb5cf71",
   "metadata": {},
   "outputs": [],
   "source": [
    "avg_expected_loss, avg_bias, avg_var = bias_variance_decomp(\n",
    " regressor1, X_train, y_train, X_test, y_test,\n",
    " loss='0-1_loss',\n",
    " random_seed=123)\n"
   ]
  },
  {
   "cell_type": "code",
   "execution_count": 32,
   "id": "944cfb77",
   "metadata": {},
   "outputs": [
    {
     "name": "stdout",
     "output_type": "stream",
     "text": [
      "Average expected loss: 0.128\n",
      "Average bias: 0.131\n",
      "Average variance: 0.003\n"
     ]
    }
   ],
   "source": [
    "print('Average expected loss: %.3f' % avg_expected_loss)\n",
    "print('Average bias: %.3f' % avg_bias)\n",
    "print('Average variance: %.3f' % avg_var)"
   ]
  }
 ],
 "metadata": {
  "kernelspec": {
   "display_name": "Python 3 (ipykernel)",
   "language": "python",
   "name": "python3"
  },
  "language_info": {
   "codemirror_mode": {
    "name": "ipython",
    "version": 3
   },
   "file_extension": ".py",
   "mimetype": "text/x-python",
   "name": "python",
   "nbconvert_exporter": "python",
   "pygments_lexer": "ipython3",
   "version": "3.9.7"
  }
 },
 "nbformat": 4,
 "nbformat_minor": 5
}
